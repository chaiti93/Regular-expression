{
 "cells": [
  {
   "cell_type": "markdown",
   "metadata": {},
   "source": [
    "# RegEx assignment\n",
    "## Parse and validate German phone numbers and email addresses"
   ]
  },
  {
   "cell_type": "code",
   "execution_count": 1,
   "metadata": {},
   "outputs": [],
   "source": [
    "# Check if running correct version\n",
    "\n",
    "import sys\n",
    "if sys.version_info.major != 3:\n",
    "    raise ValueError(\"You must use Python 3.\")\n",
    "if sys.version_info.minor < 4 :\n",
    "    raise ValueError(\"You must use at least Python 3.4\")\n",
    "if sys.version_info.minor < 6:\n",
    "    print(\"Recommended Python Version is 3.6\")"
   ]
  },
  {
   "cell_type": "markdown",
   "metadata": {},
   "source": [
    "## 1.1 Phone Numbers\n",
    "\n",
    "The German country code is always _+49_ or _0049_. If a country code is given, the next number cannot be a _0_. If this number starts with a _1_, it is a mobile phone. In this case, the next three numbers (with the _1_) are the area code. The remaining numbers are the number.\n",
    "If it is not a mobile number, just use the remaining numbers. (Meaning: No area code detection, if not a mobile number)"
   ]
  },
  {
   "cell_type": "code",
   "execution_count": 2,
   "metadata": {},
   "outputs": [],
   "source": [
    "test_phone_numbers = [\n",
    "    \"+49174321324\",\n",
    "    \"0164883423\",\n",
    "    \"0049(0)16483311724\",\n",
    "    \"+49-8332-3010\",\n",
    "    \"00498513994\",\n",
    "    \"0164 5554454\",\n",
    "    \"0851 509\",\n",
    "    \"0851 509-0\",\n",
    "    \"(0851) 3394\"\n",
    "]"
   ]
  },
  {
   "cell_type": "code",
   "execution_count": 3,
   "metadata": {},
   "outputs": [],
   "source": [
    "gold_phone_numbers = [\n",
    "    \"+49 174 321324\",\n",
    "    \"+49 164 883423\",\n",
    "    \"+49 164 83311724\",\n",
    "    \"+49 83323010\",\n",
    "    \"+49 8513994\",\n",
    "    \"+49 164 5554454\",\n",
    "    \"+49 851509\",\n",
    "    \"+49 8515090\",\n",
    "    \"+49 8513394\"\n",
    "]"
   ]
  },
  {
   "cell_type": "code",
   "execution_count": 4,
   "metadata": {},
   "outputs": [],
   "source": [
    "def validate_phone(parsed_numbers):\n",
    "    for parsed, test, gold in zip(parsed_numbers, test_phone_numbers, gold_phone_numbers):\n",
    "        if parsed != gold:\n",
    "            print(\"WRONG   → \\n\\t Input : {}\\n\\t Gold  : {}\\n\\t Parsed: {}\".format(test, gold, parsed))\n",
    "        else:\n",
    "            print(\"CORRECT → \\n\\t Input : {}\\n\\t Gold  : {}\\n\\t Parsed: {}\".format(test, gold, parsed))"
   ]
  },
  {
   "cell_type": "markdown",
   "metadata": {},
   "source": [
    "### add your code in the next cell\n",
    "\n",
    "You should produce a list _parsed_ of the parsed phone numbers.\n",
    "When calling _validate_phone(parsed_numbers)_ it should only print CORRECT."
   ]
  },
  {
   "cell_type": "code",
   "execution_count": 5,
   "metadata": {},
   "outputs": [
    {
     "name": "stdout",
     "output_type": "stream",
     "text": [
      "CORRECT → \n",
      "\t Input : +49174321324\n",
      "\t Gold  : +49 174 321324\n",
      "\t Parsed: +49 174 321324\n",
      "CORRECT → \n",
      "\t Input : 0164883423\n",
      "\t Gold  : +49 164 883423\n",
      "\t Parsed: +49 164 883423\n",
      "CORRECT → \n",
      "\t Input : 0049(0)16483311724\n",
      "\t Gold  : +49 164 83311724\n",
      "\t Parsed: +49 164 83311724\n",
      "CORRECT → \n",
      "\t Input : +49-8332-3010\n",
      "\t Gold  : +49 83323010\n",
      "\t Parsed: +49 83323010\n",
      "CORRECT → \n",
      "\t Input : 00498513994\n",
      "\t Gold  : +49 8513994\n",
      "\t Parsed: +49 8513994\n",
      "CORRECT → \n",
      "\t Input : 0164 5554454\n",
      "\t Gold  : +49 164 5554454\n",
      "\t Parsed: +49 164 5554454\n",
      "CORRECT → \n",
      "\t Input : 0851 509\n",
      "\t Gold  : +49 851509\n",
      "\t Parsed: +49 851509\n",
      "CORRECT → \n",
      "\t Input : 0851 509-0\n",
      "\t Gold  : +49 8515090\n",
      "\t Parsed: +49 8515090\n",
      "CORRECT → \n",
      "\t Input : (0851) 3394\n",
      "\t Gold  : +49 8513394\n",
      "\t Parsed: +49 8513394\n"
     ]
    }
   ],
   "source": [
    "import re\n",
    "import nltk\n",
    "\n",
    "#Function to print numbers based on country code\n",
    "def disp(x,test_num):\n",
    "    if re.search(r'^([1])',test_num): #Mobile Number -> Display as \"+49 <AreaCode> <Number>\"\n",
    "        test_num = ('+49 '+ test_num[0:3] +' '+ test_num[3:])\n",
    "        return(test_num)\n",
    "    elif re.search(r'^([2-9])',test_num): #Landline Number -> Display as \"+49 <Number>\"\n",
    "        test_num = ('+49 '+ test_num[0:])\n",
    "        return(test_num)\n",
    "    else:\n",
    "        test_num = (x+'(0)'+test_num) \n",
    "        return(test_num)\n",
    "\n",
    "parsed_numbers = []\n",
    "test_phone_numbers_trimmed = [test_num.replace(' ', '').replace('-','') for test_num in test_phone_numbers]\n",
    "\n",
    "for test_num in test_phone_numbers_trimmed:\n",
    "    if re.search(r'^(\\(*\\+\\)*\\(*[4][9]\\)*([1-9]|(\\([0]\\))|\\()[0-9]{,11})',test_num): #RegEx to search Phone Numbers with country code +49 or +49(0) or (+49)\n",
    "        x = '+49'\n",
    "        test_num = re.sub(r\"^\\(*\\+\\)*\\(*[4][9]\\)*\\(*[0]*\\)*\", \"\", test_num).replace('(', '').replace(')', '')\n",
    "        test_num = disp(x,test_num)\n",
    "    elif re.search(r'^(\\(*[0]\\)*\\(*[1-9][0-9]{,15})',test_num): #RegEx to search Phone Numbers with country code 0 or (0)\n",
    "        test_num = re.sub(r\"^\\(*[0]\\)*\",\"\", test_num).replace('(', '').replace(')', '')\n",
    "        test_num = disp(x,test_num)\n",
    "    elif re.search(r'^(\\(*[0]\\)*\\(*[0]\\)*\\(*[4][9]\\)*([1-9]|(\\([0]\\))|\\()[0-9]{,15})', test_num): #RegEx to search Mobile Numbers starting with 0049 or 0049(0)\n",
    "        x = '0049'\n",
    "        test_num = re.sub(r\"^\\(*[0]\\)*\\(*[0]\\)*\\(*[4][9]\\)*\\(*[0]*\\)*\", \"\",test_num).replace('(', '').replace(')', '')\n",
    "        test_num = disp(x,test_num)\n",
    "    else:\n",
    "        test_num\n",
    "    parsed_numbers.append(test_num)\n",
    "\n",
    "validate_phone(parsed_numbers)"
   ]
  },
  {
   "cell_type": "markdown",
   "metadata": {},
   "source": [
    "## 1.2 Email Addresses"
   ]
  },
  {
   "cell_type": "code",
   "execution_count": 6,
   "metadata": {},
   "outputs": [],
   "source": [
    "test_emails = [\n",
    "    \"peter.mueller@uni-passau.de\",\n",
    "    \"peter dot mueller at uni-passau dot de\",\n",
    "    \"peter.mueller(at)uni-passau.de\",\n",
    "    \"peter.mueller (at) uni-passau.de\",\n",
    "    \"nefullword@gw.uni-passau.de\",\n",
    "    \"peter (dot) mueller (at) uni-passau (dot) de\",\n",
    "    \"other.host@gmail.com\",\n",
    "    \"special-chars (at) live.com\"\n",
    "]"
   ]
  },
  {
   "cell_type": "code",
   "execution_count": 7,
   "metadata": {},
   "outputs": [],
   "source": [
    "gold_emails = [\n",
    "    \"peter.mueller@uni-passau.de\",\n",
    "    \"peter.mueller@uni-passau.de\",\n",
    "    \"peter.mueller@uni-passau.de\",\n",
    "    \"peter.mueller@uni-passau.de\",\n",
    "    \"nefullword@gw.uni-passau.de\",\n",
    "    \"peter.mueller@uni-passau.de\",\n",
    "    \"other.host@gmail.com\",\n",
    "    \"special-chars@live.com\"\n",
    "]"
   ]
  },
  {
   "cell_type": "code",
   "execution_count": 8,
   "metadata": {},
   "outputs": [],
   "source": [
    "def validate_email(parsed_emails):\n",
    "    for parsed, test, gold in zip(parsed_emails, test_emails, gold_emails):\n",
    "        if parsed != gold:\n",
    "            print(\"WRONG   → \\n\\t Input : {}\\n\\t Gold  : {}\\n\\t Parsed: {}\".format(test, gold, parsed))\n",
    "        else:\n",
    "            print(\"CORRECT → \\n\\t Input : {}\\n\\t Gold  : {}\\n\\t Parsed: {}\".format(test, gold, parsed))"
   ]
  },
  {
   "cell_type": "markdown",
   "metadata": {},
   "source": [
    "### add your code in the next cell\n",
    "\n",
    "You should produce a list _parsed_ of the parsed email addresses.\n",
    "When calling _validate_email(parsed_emails)_ it should only print CORRECT."
   ]
  },
  {
   "cell_type": "code",
   "execution_count": 9,
   "metadata": {},
   "outputs": [
    {
     "name": "stdout",
     "output_type": "stream",
     "text": [
      "CORRECT → \n",
      "\t Input : peter.mueller@uni-passau.de\n",
      "\t Gold  : peter.mueller@uni-passau.de\n",
      "\t Parsed: peter.mueller@uni-passau.de\n",
      "CORRECT → \n",
      "\t Input : peter dot mueller at uni-passau dot de\n",
      "\t Gold  : peter.mueller@uni-passau.de\n",
      "\t Parsed: peter.mueller@uni-passau.de\n",
      "CORRECT → \n",
      "\t Input : peter.mueller(at)uni-passau.de\n",
      "\t Gold  : peter.mueller@uni-passau.de\n",
      "\t Parsed: peter.mueller@uni-passau.de\n",
      "CORRECT → \n",
      "\t Input : peter.mueller (at) uni-passau.de\n",
      "\t Gold  : peter.mueller@uni-passau.de\n",
      "\t Parsed: peter.mueller@uni-passau.de\n",
      "CORRECT → \n",
      "\t Input : nefullword@gw.uni-passau.de\n",
      "\t Gold  : nefullword@gw.uni-passau.de\n",
      "\t Parsed: nefullword@gw.uni-passau.de\n",
      "CORRECT → \n",
      "\t Input : peter (dot) mueller (at) uni-passau (dot) de\n",
      "\t Gold  : peter.mueller@uni-passau.de\n",
      "\t Parsed: peter.mueller@uni-passau.de\n",
      "CORRECT → \n",
      "\t Input : other.host@gmail.com\n",
      "\t Gold  : other.host@gmail.com\n",
      "\t Parsed: other.host@gmail.com\n",
      "CORRECT → \n",
      "\t Input : special-chars (at) live.com\n",
      "\t Gold  : special-chars@live.com\n",
      "\t Parsed: special-chars@live.com\n"
     ]
    }
   ],
   "source": [
    "import re\n",
    "import nltk\n",
    "\n",
    "parsed_emails=[]\n",
    "\n",
    "reg_exp = r'^[^\\.][a-zA-Z0-9-!#$%&*+-/=?^_`{|}~\\']+(\\.|\\s+[d][o][t]\\s+|\\([d][o][t]\\)|\\s+\\([d][o][t]\\)\\s+)?[a-zA-Z0-9-!#$%&*+-/=?^_`{|}~\\']+(\\@|\\s+[a][t]\\s+|\\([a][t]\\)|\\s+\\([a][t]\\)\\s+)[a-zA-Z0-9-]+[^\\@]+(\\.|\\s+[d][o][t]\\s+|\\([d][o][t]\\)|\\s+\\([d][o][t]\\)\\s+)[a-zA-z]+[^\\.]$'\n",
    "\n",
    "for test in test_emails:\n",
    "    if re.search(reg_exp,test):\n",
    "        test = re.sub('\\s+dot\\s+|\\(dot\\)|\\s+\\(dot\\)\\s+', '.',(re.sub('(\\s+at\\s+|\\(at\\)|\\s+\\(at\\)\\s+)', '@',test)))\n",
    "    else:\n",
    "        test\n",
    "    parsed_emails.append(test)\n",
    "\n",
    "def validate_email(parsed_emails):\n",
    "    for parsed, test, gold in zip(parsed_emails, test_emails, gold_emails):\n",
    "        if parsed != gold:\n",
    "            print(\"WRONG   → \\n\\t Input : {}\\n\\t Gold  : {}\\n\\t Parsed: {}\".format(test, gold, parsed))\n",
    "        else:\n",
    "            print(\"CORRECT → \\n\\t Input : {}\\n\\t Gold  : {}\\n\\t Parsed: {}\".format(test, gold, parsed))\n",
    "\n",
    "validate_email(parsed_emails)"
   ]
  }
 ],
 "metadata": {
  "kernelspec": {
   "display_name": "Python 3",
   "language": "python",
   "name": "python3"
  },
  "language_info": {
   "codemirror_mode": {
    "name": "ipython",
    "version": 3
   },
   "file_extension": ".py",
   "mimetype": "text/x-python",
   "name": "python",
   "nbconvert_exporter": "python",
   "pygments_lexer": "ipython3",
   "version": "3.7.7"
  }
 },
 "nbformat": 4,
 "nbformat_minor": 2
}
